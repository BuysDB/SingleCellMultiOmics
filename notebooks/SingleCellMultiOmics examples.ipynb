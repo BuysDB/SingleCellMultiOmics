{
 "cells": [
  {
   "cell_type": "code",
   "execution_count": 63,
   "metadata": {},
   "outputs": [],
   "source": [
    "%matplotlib inline\n",
    "import matplotlib as mpl\n",
    "mpl.rcParams['figure.dpi'] = 250\n",
    "\n",
    "import matplotlib.pyplot as plt\n",
    "\n",
    "import pysam\n",
    "import singlecellmultiomics.molecule\n",
    "import singlecellmultiomics.fragment\n",
    "import pysamiterators\n",
    "import pandas as pd\n",
    "\n",
    "nla_test_bam_path = '../data/mini_nla_test.bam'"
   ]
  },
  {
   "cell_type": "code",
   "execution_count": 64,
   "metadata": {},
   "outputs": [
    {
     "name": "stdout",
     "output_type": "stream",
     "text": [
      "ST-E00285:221:HKM7VCCXY:6:2211:11485:25534\t1171\t0\t164834715\t60\t151M\t0\t164834656\t151\tGAGTTATGAAATCCCTTGCTAACTTTCTCTTCTCTGGGGAAAAGAGTCTGAGTTCCCTCAGCCTTTCTTCCTAAGACCTGTGGTTGGCTATAAATTGCATTGGTTGCTCTTCTCTAATGACCTCTGGAGATTGGCAACACCAAACAAAGAC\tarray('B', [12, 41, 41, 32, 41, 37, 37, 37, 41, 41, 41, 37, 37, 41, 37, 32, 27, 37, 41, 41, 41, 32, 37, 32, 41, 41, 41, 41, 41, 37, 37, 37, 41, 41, 41, 37, 32, 37, 37, 41, 37, 41, 41, 41, 41, 41, 41, 41, 41, 41, 37, 37, 27, 41, 41, 27, 41, 32, 41, 41, 41, 37, 41, 41, 41, 41, 37, 37, 37, 41, 41, 41, 41, 37, 27, 41, 41, 41, 41, 41, 41, 32, 37, 22, 32, 41, 32, 27, 41, 41, 41, 41, 41, 41, 41, 41, 41, 41, 41, 41, 41, 37, 41, 41, 41, 37, 37, 41, 41, 41, 41, 37, 41, 41, 41, 41, 37, 41, 41, 41, 41, 27, 37, 41, 41, 41, 41, 37, 41, 41, 41, 37, 41, 37, 37, 41, 37, 37, 41, 41, 37, 41, 41, 41, 37, 41, 37, 37, 37, 32, 32])\t[('NM', 0), ('MD', '151'), ('MC', '140M'), ('AS', 151), ('XS', 20), ('Is', 'ST-E00285'), ('RN', '221'), ('Fc', 'HKM7VCCXY'), ('La', '6'), ('Ti', '2211'), ('CX', '11485'), ('CY', '25534'), ('Fi', 'N'), ('CN', '0'), ('aA', 'TATAATAT'), ('LY', 'APKS1P25-NLAP1L4'), ('RX', 'TTA'), ('RQ', 'AAF'), ('BI', '90'), ('bc', 'AGCAAGCA'), ('BC', 'AGCAAGCA'), ('QT', 'FFFJJJJJ'), ('MX', 'NLAIII96C8U3'), ('MI', 'AGCAAGCATTATATAATAT'), ('QM', 'FFFJJJJJAAF////////'), ('SM', 'APKS1P25-NLAP1L4_90'), ('rS', 'GTCTTT'), ('rP', 164834866), ('RC', 2), ('DS', 164834656), ('DT', 'NLA'), ('RS', '-'), ('RZ', 'CATG'), ('RG', 'HKM7VCCXY.6.APKS1P25-NLAP1L4_90')]\n",
      "ST-E00285:221:HKM7VCCXY:5:1211:30523:24796\t147\t0\t164834716\t60\t151M\t0\t164834656\t151\tAGTTATGAAATCCCTTGCTAACTTTCTCTTCTCTGGGGAAAAGAGTCTGAGTTCCCTCAGCCTTTCTTCCTAAGACCTGTGGTTGGCTATAAATTGCATTGGTTGCTCTTCTCTAATGACCTCTGGAGATTGGCAACACCAAACAAAAACA\tarray('B', [32, 41, 32, 27, 41, 41, 37, 37, 22, 37, 27, 32, 37, 37, 32, 41, 41, 41, 41, 41, 41, 41, 41, 27, 37, 41, 41, 37, 32, 32, 37, 27, 27, 41, 41, 41, 41, 41, 37, 37, 27, 37, 32, 37, 37, 37, 32, 37, 37, 27, 32, 37, 12, 32, 37, 22, 41, 41, 41, 32, 22, 22, 37, 22, 32, 37, 41, 32, 27, 32, 22, 32, 12, 41, 41, 37, 37, 41, 41, 41, 41, 41, 41, 37, 22, 12, 22, 12, 32, 41, 41, 32, 37, 32, 27, 12, 12, 37, 37, 22, 32, 12, 37, 37, 12, 32, 27, 12, 22, 32, 27, 41, 37, 37, 37, 32, 41, 41, 41, 41, 27, 37, 41, 32, 37, 27, 12, 41, 12, 37, 22, 37, 32, 22, 32, 12, 37, 32, 12, 41, 41, 32, 12, 32, 27, 37, 12, 32, 32, 12, 27])\t[('NM', 1), ('MD', '147G3'), ('MC', '140M'), ('AS', 147), ('XS', 20), ('Is', 'ST-E00285'), ('RN', '221'), ('Fc', 'HKM7VCCXY'), ('La', '5'), ('Ti', '1211'), ('CX', '30523'), ('CY', '24796'), ('Fi', 'N'), ('CN', '0'), ('aA', 'TTAGGCAT'), ('LY', 'APKS1-P10-1-3'), ('RX', 'ACG'), ('RQ', 'AAF'), ('BI', '29'), ('bc', 'CGTTGATC'), ('BC', 'CGTTGATC'), ('QT', 'FFJJJJFA'), ('MX', 'NLAIII96C8U3'), ('MI', 'CGTTGATCACGTTAGGCAT'), ('QM', 'FFJJJJFAAAF////////'), ('SM', 'APKS1-P10-1-3_29'), ('rS', 'TGTTTT'), ('rP', 164834867), ('RC', 1), ('DS', 164834656), ('DT', 'NLA'), ('RS', '-'), ('RZ', 'CATG'), ('RG', 'HKM7VCCXY.5.APKS1-P10-1-3_29')]\n"
     ]
    }
   ],
   "source": [
    "# iterate over the reads in  nla_test_bam_path using pysam ...\n",
    "with pysam.AlignmentFile(nla_test_bam_path) as alignments:\n",
    "    for i,read in enumerate( alignments ):\n",
    "        print(str(read))\n",
    "        if i>=1:\n",
    "            break"
   ]
  },
  {
   "cell_type": "code",
   "execution_count": 65,
   "metadata": {},
   "outputs": [
    {
     "name": "stdout",
     "output_type": "stream",
     "text": [
      "ST-E00285:221:HKM7VCCXY:5:2221:19918:29490\t83\t0\t164834729\t60\t140M\t0\t164834726\t140\tCTTGCTAACTTTCTCTTCTCTGGGGAAAAGAGTCTGAGTTCCCTCAGCCTTTCTTCCTAAGACCTGTGGTTGGCTATAAATTGCATTGGTTGCTCTTCTCTAATGACCTCTGGAGATTGGCAACACCAAACAAAGACATG\tarray('B', [37, 41, 41, 41, 41, 41, 41, 41, 41, 41, 41, 41, 41, 41, 41, 41, 41, 41, 41, 41, 41, 41, 41, 41, 41, 41, 41, 41, 41, 41, 41, 41, 41, 41, 41, 41, 37, 41, 41, 41, 41, 41, 41, 41, 41, 41, 41, 41, 41, 41, 41, 41, 41, 41, 41, 41, 41, 41, 41, 41, 41, 41, 41, 41, 41, 41, 41, 41, 41, 41, 41, 41, 41, 41, 41, 41, 41, 41, 41, 41, 41, 41, 41, 41, 41, 41, 41, 41, 41, 41, 37, 37, 32, 32, 37, 37, 37, 41, 41, 37, 41, 41, 41, 41, 37, 41, 32, 32, 32, 22, 37, 12, 41, 37, 41, 41, 27, 41, 37, 37, 27, 37, 37, 37, 27, 37, 41, 37, 37, 37, 41, 41, 37, 37, 32, 41, 32, 32, 37, 32])\t[('NM', 0), ('MD', '140'), ('MC', '143M8S'), ('AS', 140), ('XS', 20), ('Is', 'ST-E00285'), ('RN', '221'), ('Fc', 'HKM7VCCXY'), ('La', '5'), ('Ti', '2221'), ('CX', '19918'), ('CY', '29490'), ('Fi', 'N'), ('CN', '0'), ('aA', 'TTAGGCAT'), ('LY', 'APKS1-P10-1-3'), ('RX', 'GAC'), ('RQ', 'AA<'), ('BI', '75'), ('bc', 'CAAGTTCC'), ('BC', 'CAAGTTCC'), ('QT', 'AAFAAFFJ'), ('MX', 'NLAIII96C8U3'), ('MI', 'CAAGTTCCGACTTAGGCAT'), ('QM', 'AAFAAFFJAA<////////'), ('SM', 'APKS1-P10-1-3_75'), ('rS', 'TCCCTT'), ('rP', 164834726), ('RC', 1), ('DS', 164834865), ('DT', 'NLA'), ('RS', '+'), ('RZ', 'CATG'), ('RG', 'HKM7VCCXY.5.APKS1-P10-1-3_75')] ST-E00285:221:HKM7VCCXY:5:2221:19918:29490\t163\t0\t164834726\t60\t143M8S\t0\t164834729\t143\tTCCCTTGCTAACTTTCTCTTCTCTGGGGAAAAGAGTCTGACTTCCCTCAGCCTTTCTTCCTAAGACCTGTGGTTGGCTATAAATTGCATTGGTTGCTCTTCTCTAATGACCTCTGGAGATTGGCAACACCAAACAAAGACATGGGAACTTG\tarray('B', [32, 32, 27, 27, 12, 27, 32, 37, 41, 27, 12, 22, 12, 22, 27, 37, 37, 12, 22, 37, 12, 12, 37, 32, 37, 12, 22, 12, 12, 32, 41, 12, 37, 12, 37, 41, 27, 22, 37, 27, 12, 27, 12, 27, 27, 32, 22, 32, 37, 22, 32, 37, 41, 12, 37, 37, 41, 37, 32, 27, 37, 41, 41, 37, 41, 41, 41, 41, 37, 37, 41, 41, 37, 37, 41, 37, 41, 27, 37, 22, 41, 37, 41, 41, 41, 41, 41, 41, 41, 41, 41, 41, 41, 41, 41, 41, 41, 41, 41, 41, 41, 41, 41, 41, 41, 41, 41, 32, 41, 41, 41, 32, 41, 41, 41, 41, 41, 41, 41, 41, 32, 32, 41, 41, 37, 41, 37, 37, 37, 22, 27, 37, 41, 41, 37, 37, 37, 41, 41, 27, 37, 37, 41, 41, 41, 41, 27, 37, 37, 37, 37])\t[('NM', 1), ('MD', '40G102'), ('MC', '140M'), ('AS', 138), ('XS', 20), ('Is', 'ST-E00285'), ('RN', '221'), ('Fc', 'HKM7VCCXY'), ('La', '5'), ('Ti', '2221'), ('CX', '19918'), ('CY', '29490'), ('Fi', 'N'), ('CN', '0'), ('aA', 'TTAGGCAT'), ('LY', 'APKS1-P10-1-3'), ('RX', 'GAC'), ('RQ', 'AA<'), ('BI', '75'), ('bc', 'CAAGTTCC'), ('BC', 'CAAGTTCC'), ('QT', 'AAFAAFFJ'), ('MX', 'NLAIII96C8U3'), ('MI', 'CAAGTTCCGACTTAGGCAT'), ('QM', 'AAFAAFFJAA<////////'), ('SM', 'APKS1-P10-1-3_75'), ('rS', 'TCCCTT'), ('rP', 164834726), ('RC', 1), ('DS', 164834865), ('DT', 'NLA'), ('RS', '+'), ('RZ', 'CATG'), ('RG', 'HKM7VCCXY.5.APKS1-P10-1-3_75')]\n",
      "ST-E00285:221:HKM7VCCXY:6:1214:26920:26607\t83\t0\t164834729\t60\t140M\t0\t164834729\t140\tCTTGCTAACTTTCTCTTCTCTGGGGAAAAGAGTCTGAGTTCCCTCAGCCTTTCTTCCTAAGACCTGTGGTTGGCTATAAATTGCATTGGTTGCTCTTCTCTAATGACCTCTGGAGATTGGCAACACCAAACAAAGACATG\tarray('B', [37, 37, 41, 41, 41, 41, 41, 41, 41, 41, 41, 41, 41, 41, 41, 27, 41, 41, 27, 41, 41, 41, 41, 41, 41, 41, 41, 41, 41, 41, 37, 41, 41, 41, 41, 41, 41, 41, 41, 32, 41, 41, 41, 37, 41, 41, 41, 41, 41, 41, 41, 41, 41, 41, 41, 41, 41, 41, 41, 41, 41, 41, 41, 41, 41, 41, 41, 41, 41, 41, 41, 41, 37, 41, 41, 41, 41, 41, 32, 37, 37, 41, 41, 41, 41, 41, 41, 41, 41, 37, 41, 41, 41, 41, 41, 41, 41, 41, 41, 41, 41, 41, 41, 41, 41, 41, 41, 41, 37, 41, 41, 37, 41, 41, 41, 37, 37, 41, 37, 22, 32, 41, 41, 41, 41, 37, 41, 41, 41, 41, 41, 41, 41, 41, 41, 41, 41, 41, 41, 41])\t[('NM', 0), ('MD', '140'), ('MC', '140M11S'), ('AS', 140), ('XS', 20), ('Is', 'ST-E00285'), ('RN', '221'), ('Fc', 'HKM7VCCXY'), ('La', '6'), ('Ti', '1214'), ('CX', '26920'), ('CY', '26607'), ('Fi', 'N'), ('CN', '0'), ('aA', 'CTCAGAAT'), ('LY', 'APKS1P25-NLAP1L1'), ('RX', 'ACC'), ('RQ', 'AAA'), ('BI', '61'), ('bc', 'CCTTCACA'), ('BC', 'CCTTCACA'), ('QT', 'FFJFJJJJ'), ('MX', 'NLAIII96C8U3'), ('MI', 'CCTTCACAACCCTCAGAAT'), ('QM', 'FFJFJJJJAAA////////'), ('SM', 'APKS1P25-NLAP1L1_61'), ('rS', 'CTTGCT'), ('rP', 164834729), ('RC', 1), ('DS', 164834865), ('DT', 'NLA'), ('RS', '+'), ('RZ', 'CATG'), ('RG', 'HKM7VCCXY.6.APKS1P25-NLAP1L1_61')] ST-E00285:221:HKM7VCCXY:6:1214:26920:26607\t163\t0\t164834729\t60\t140M11S\t0\t164834729\t140\tCTTGCTAACTTTCTCTTCTCTGGGGAAAAGAGTCTGAGTTCCCTCAGCCTTTCTTCCTAAGACCTGTGGTTGGCTATAAATTGCATTGGTTGCTCTTCTCTAATGACCTCTGGAGATTGGCAACACCAAACAAAGACATGTGTGAAGGGGT\tarray('B', [32, 32, 37, 37, 37, 41, 41, 41, 41, 41, 41, 41, 41, 41, 41, 41, 41, 41, 41, 41, 41, 41, 41, 41, 37, 37, 41, 41, 41, 41, 41, 41, 41, 41, 41, 41, 41, 41, 41, 41, 41, 41, 41, 41, 41, 41, 37, 41, 41, 41, 41, 41, 41, 41, 41, 41, 41, 41, 41, 37, 37, 41, 41, 41, 41, 37, 41, 41, 41, 41, 41, 41, 41, 41, 41, 41, 41, 41, 41, 41, 41, 41, 41, 41, 41, 41, 41, 41, 41, 41, 41, 41, 41, 41, 41, 41, 41, 41, 41, 41, 41, 41, 41, 41, 41, 41, 41, 41, 41, 41, 41, 41, 41, 41, 41, 27, 37, 41, 41, 37, 41, 41, 41, 41, 41, 41, 22, 37, 41, 41, 41, 41, 41, 41, 41, 41, 41, 41, 37, 41, 37, 41, 37, 41, 41, 37, 37, 41, 41, 41, 12])\t[('NM', 0), ('MD', '140'), ('MC', '140M'), ('AS', 140), ('XS', 20), ('Is', 'ST-E00285'), ('RN', '221'), ('Fc', 'HKM7VCCXY'), ('La', '6'), ('Ti', '1214'), ('CX', '26920'), ('CY', '26607'), ('Fi', 'N'), ('CN', '0'), ('aA', 'CTCAGAAT'), ('LY', 'APKS1P25-NLAP1L1'), ('RX', 'ACC'), ('RQ', 'AAA'), ('BI', '61'), ('bc', 'CCTTCACA'), ('BC', 'CCTTCACA'), ('QT', 'FFJFJJJJ'), ('MX', 'NLAIII96C8U3'), ('MI', 'CCTTCACAACCCTCAGAAT'), ('QM', 'FFJFJJJJAAA////////'), ('SM', 'APKS1P25-NLAP1L1_61'), ('rS', 'CTTGCT'), ('rP', 164834729), ('RC', 1), ('DS', 164834865), ('DT', 'NLA'), ('RS', '+'), ('RZ', 'CATG'), ('RG', 'HKM7VCCXY.6.APKS1P25-NLAP1L1_61')]\n"
     ]
    }
   ],
   "source": [
    "# Iterate over the mate pairs, keeping R1 and R2 together\n",
    "with pysam.AlignmentFile(nla_test_bam_path) as alignments:\n",
    "    for i,(R1,R2) in enumerate( pysamiterators.MatePairIterator(alignments) ):\n",
    "        print(R1, R2)\n",
    "        if i>=1:\n",
    "            break"
   ]
  },
  {
   "cell_type": "code",
   "execution_count": 66,
   "metadata": {},
   "outputs": [
    {
     "name": "stdout",
     "output_type": "stream",
     "text": [
      "Molecule\n",
      "        with 4 assinged fragments\n",
      "        Allele :No allele assigned\n",
      "            Fragment:\n",
      "            sample:APKS1P25-NLAP2L1_30\n",
      "            umi:CCG\n",
      "            span:chr1 164834731-164834869\n",
      "            strand:-\n",
      "            has R1: no\n",
      "            has R2: yes\n",
      "        \n",
      "\t    Fragment:\n",
      "            sample:APKS1P25-NLAP2L1_30\n",
      "            umi:CCG\n",
      "            span:chr1 164834731-164834869\n",
      "            strand:-\n",
      "            has R1: no\n",
      "            has R2: yes\n",
      "        \n",
      "\t    Fragment:\n",
      "            sample:APKS1P25-NLAP2L1_30\n",
      "            umi:CCG\n",
      "            span:chr1 164834731-164834869\n",
      "            strand:-\n",
      "            has R1: no\n",
      "            has R2: yes\n",
      "        \n",
      "\t    Fragment:\n",
      "            sample:APKS1P25-NLAP2L1_30\n",
      "            umi:CCG\n",
      "            span:chr1 164834741-164834869\n",
      "            strand:-\n",
      "            has R1: no\n",
      "            has R2: yes\n",
      "        \n"
     ]
    }
   ],
   "source": [
    "# Iterate over molecules\n",
    "with pysam.AlignmentFile(nla_test_bam_path) as alignments:\n",
    "    for i,molecule in enumerate( singlecellmultiomics.molecule.MoleculeIterator(alignments) ):\n",
    "        print(molecule)\n",
    "        break"
   ]
  },
  {
   "cell_type": "code",
   "execution_count": 67,
   "metadata": {},
   "outputs": [
    {
     "data": {
      "text/plain": [
       "Fragment:\n",
       "        sample:APKS1P25-NLAP2L1_30\n",
       "        umi:CCG\n",
       "        span:chr1 164834731-164834869\n",
       "        strand:-\n",
       "        has R1: no\n",
       "        has R2: yes\n",
       "        "
      ]
     },
     "execution_count": 67,
     "metadata": {},
     "output_type": "execute_result"
    }
   ],
   "source": [
    "# Obtain the first fragment assigned to the molecule\n",
    "molecule[0]"
   ]
  },
  {
   "cell_type": "code",
   "execution_count": 68,
   "metadata": {},
   "outputs": [],
   "source": [
    "# obtain read 1 from the first fragment\n",
    "molecule[0][0] "
   ]
  },
  {
   "cell_type": "code",
   "execution_count": 69,
   "metadata": {},
   "outputs": [],
   "source": [
    "molecule[0].get_R1()"
   ]
  },
  {
   "cell_type": "code",
   "execution_count": 70,
   "metadata": {},
   "outputs": [
    {
     "data": {
      "text/plain": [
       "'-'"
      ]
     },
     "execution_count": 70,
     "metadata": {},
     "output_type": "execute_result"
    }
   ],
   "source": [
    "# Obtain the strand as string (-: reverse, +:forward)\n",
    "molecule.get_strand_repr()"
   ]
  },
  {
   "cell_type": "code",
   "execution_count": 71,
   "metadata": {},
   "outputs": [
    {
     "data": {
      "text/plain": [
       "4"
      ]
     },
     "execution_count": 71,
     "metadata": {},
     "output_type": "execute_result"
    }
   ],
   "source": [
    "# Obtain the amount of fragments associated to the molecule\n",
    "len(molecule)"
   ]
  },
  {
   "cell_type": "code",
   "execution_count": 72,
   "metadata": {},
   "outputs": [
    {
     "data": {
      "text/plain": [
       "'APKS1P25-NLAP2L1_30'"
      ]
     },
     "execution_count": 72,
     "metadata": {},
     "output_type": "execute_result"
    }
   ],
   "source": [
    "# Obtain the sample name\n",
    "molecule.sample"
   ]
  },
  {
   "cell_type": "code",
   "execution_count": 73,
   "metadata": {},
   "outputs": [
    {
     "data": {
      "text/plain": [
       "NlaIIIMolecule\n",
       "        with 4 assinged fragments\n",
       "        Allele :No allele assigned\n",
       "            Fragment:\n",
       "            sample:APKS3-P19-1-1_115\n",
       "            umi:GAC\n",
       "            span:chr1 164834869-164835153\n",
       "            strand:-\n",
       "            has R1: yes\n",
       "            has R2: yes\n",
       "            DS:164834865\n",
       "    \tRS:1\n",
       "    \tRZ:CATG\n",
       "    \tRestriction site:('chr1', 164834865)\n",
       "\t    Fragment:\n",
       "            sample:APKS3-P19-1-1_115\n",
       "            umi:GCC\n",
       "            span:chr1 164834869-164835270\n",
       "            strand:-\n",
       "            has R1: yes\n",
       "            has R2: yes\n",
       "            DS:164834865\n",
       "    \tRS:1\n",
       "    \tRZ:CATG\n",
       "    \tRestriction site:('chr1', 164834865)\n",
       "\t    Fragment:\n",
       "            sample:APKS3-P19-1-1_115\n",
       "            umi:GAC\n",
       "            span:chr1 164834869-164835270\n",
       "            strand:-\n",
       "            has R1: yes\n",
       "            has R2: yes\n",
       "            DS:164834865\n",
       "    \tRS:1\n",
       "    \tRZ:CATG\n",
       "    \tRestriction site:('chr1', 164834865)\n",
       "\t    Fragment:\n",
       "            sample:APKS3-P19-1-1_115\n",
       "            umi:GAC\n",
       "            span:chr1 164834869-164835270\n",
       "            strand:-\n",
       "            has R1: yes\n",
       "            has R2: yes\n",
       "            DS:164834865\n",
       "    \tRS:1\n",
       "    \tRZ:CATG\n",
       "    \tRestriction site:('chr1', 164834865)"
      ]
     },
     "execution_count": 73,
     "metadata": {},
     "output_type": "execute_result"
    }
   ],
   "source": [
    "# Find a molecule with 4 fragments\n",
    "molecules_seen = [] # store all molecules, used in next examples\n",
    "with pysam.AlignmentFile(nla_test_bam_path) as alignments:\n",
    "    for i,molecule in enumerate(\n",
    "            singlecellmultiomics.molecule.MoleculeIterator(alignments,\n",
    "                                                            fragment_class_args={\n",
    "                                                                'umi_hamming_distance':1\n",
    "                                                            },\n",
    "                                                           moleculeClass=singlecellmultiomics.molecule.NlaIIIMolecule,\n",
    "                                                           fragmentClass=singlecellmultiomics.fragment.NLAIIIFragment\n",
    "\n",
    "                                                          )):\n",
    "        molecules_seen.append(molecule)\n",
    "        if len(molecule)==4 and i>0:\n",
    "            break\n",
    "molecule"
   ]
  },
  {
   "cell_type": "code",
   "execution_count": 74,
   "metadata": {},
   "outputs": [
    {
     "data": {
      "text/plain": [
       "Counter({'GAC': 3, 'GCC': 1})"
      ]
     },
     "execution_count": 74,
     "metadata": {},
     "output_type": "execute_result"
    }
   ],
   "source": [
    "# Obtain associated unique molecular identifiers\n",
    "molecule.umi_counter"
   ]
  },
  {
   "cell_type": "code",
   "execution_count": 75,
   "metadata": {},
   "outputs": [
    {
     "name": "stdout",
     "output_type": "stream",
     "text": [
      "ST-E00285:221:HKM7VCCXY:6:1224:9120:30439\n",
      "NS500413:404:HJ3KHBGX5:2:22312:23759:6537\n",
      "NS500413:404:HJ3KHBGX5:4:13507:22698:18344\n",
      "NS500413:404:HJ3KHBGX5:3:23502:18585:5263\n"
     ]
    }
   ],
   "source": [
    "# Iterate over all fragments in the molecule, obtain their R1 and print the read name:\n",
    "for fragment in molecule:\n",
    "    print(fragment.get_R1().query_name )"
   ]
  },
  {
   "cell_type": "code",
   "execution_count": 76,
   "metadata": {},
   "outputs": [
    {
     "name": "stdout",
     "output_type": "stream",
     "text": [
      "164835159 TGCAGT [Fragment:\n",
      "        sample:APKS3-P19-1-1_115\n",
      "        umi:GAC\n",
      "        span:chr1 164834869-164835153\n",
      "        strand:-\n",
      "        has R1: yes\n",
      "        has R2: yes\n",
      "        DS:164834865\n",
      "\tRS:1\n",
      "\tRZ:CATG\n",
      "\tRestriction site:('chr1', 164834865)]\n",
      "164835276 CAGTGT [Fragment:\n",
      "        sample:APKS3-P19-1-1_115\n",
      "        umi:GCC\n",
      "        span:chr1 164834869-164835270\n",
      "        strand:-\n",
      "        has R1: yes\n",
      "        has R2: yes\n",
      "        DS:164834865\n",
      "\tRS:1\n",
      "\tRZ:CATG\n",
      "\tRestriction site:('chr1', 164834865)]\n",
      "164835276 CCGTGT [Fragment:\n",
      "        sample:APKS3-P19-1-1_115\n",
      "        umi:GAC\n",
      "        span:chr1 164834869-164835270\n",
      "        strand:-\n",
      "        has R1: yes\n",
      "        has R2: yes\n",
      "        DS:164834865\n",
      "\tRS:1\n",
      "\tRZ:CATG\n",
      "\tRestriction site:('chr1', 164834865), Fragment:\n",
      "        sample:APKS3-P19-1-1_115\n",
      "        umi:GAC\n",
      "        span:chr1 164834869-164835270\n",
      "        strand:-\n",
      "        has R1: yes\n",
      "        has R2: yes\n",
      "        DS:164834865\n",
      "\tRS:1\n",
      "\tRZ:CATG\n",
      "\tRestriction site:('chr1', 164834865)]\n"
     ]
    }
   ],
   "source": [
    "# Iterate over all reverse transcription reactions:\n",
    "for (reverse_primer_start, reverse_primer_sequence), associated_fragments in molecule.get_rt_reactions().items():\n",
    "    print(reverse_primer_start,reverse_primer_sequence,associated_fragments)"
   ]
  },
  {
   "cell_type": "markdown",
   "metadata": {},
   "source": [
    "## Equivalence testing"
   ]
  },
  {
   "cell_type": "markdown",
   "metadata": {},
   "source": [
    "### Comparing fragments"
   ]
  },
  {
   "cell_type": "code",
   "execution_count": 77,
   "metadata": {},
   "outputs": [
    {
     "data": {
      "text/plain": [
       "True"
      ]
     },
     "execution_count": 77,
     "metadata": {},
     "output_type": "execute_result"
    }
   ],
   "source": [
    "# compare two fragments: (check if they should belong to the same molecule)\n",
    "fragment_A = molecule[0]\n",
    "fragment_B = molecule[1]\n",
    "fragment_A == fragment_B"
   ]
  },
  {
   "cell_type": "code",
   "execution_count": 78,
   "metadata": {},
   "outputs": [
    {
     "data": {
      "text/plain": [
       "Fragment:\n",
       "        sample:APKS1P25-NLAP2L2_57\n",
       "        umi:CCG\n",
       "        span:chr1 164834728-164834868\n",
       "        strand:+\n",
       "        has R1: yes\n",
       "        has R2: no\n",
       "        DS:164834865\n",
       "\tRS:0\n",
       "\tRZ:CAT\n",
       "\tRestriction site:('chr1', 164834865)"
      ]
     },
     "execution_count": 78,
     "metadata": {},
     "output_type": "execute_result"
    }
   ],
   "source": [
    "# Obtain a fragment not belonging to the molecule \n",
    "fragment_C = molecules_seen[0][0]\n",
    "fragment_C"
   ]
  },
  {
   "cell_type": "code",
   "execution_count": 79,
   "metadata": {},
   "outputs": [
    {
     "data": {
      "text/plain": [
       "False"
      ]
     },
     "execution_count": 79,
     "metadata": {},
     "output_type": "execute_result"
    }
   ],
   "source": [
    "fragment_C == fragment_A"
   ]
  },
  {
   "cell_type": "markdown",
   "metadata": {},
   "source": [
    "### Comparing fragment to molecule"
   ]
  },
  {
   "cell_type": "code",
   "execution_count": 80,
   "metadata": {},
   "outputs": [
    {
     "data": {
      "text/plain": [
       "True"
      ]
     },
     "execution_count": 80,
     "metadata": {},
     "output_type": "execute_result"
    }
   ],
   "source": [
    "# Fragment A belongs to molecule, this comparison results in True\n",
    "fragment_A == molecule"
   ]
  },
  {
   "cell_type": "code",
   "execution_count": 81,
   "metadata": {},
   "outputs": [
    {
     "data": {
      "text/plain": [
       "False"
      ]
     },
     "execution_count": 81,
     "metadata": {},
     "output_type": "execute_result"
    }
   ],
   "source": [
    "# Fragment C does not belong to molecule\n",
    "fragment_C == molecule "
   ]
  },
  {
   "cell_type": "markdown",
   "metadata": {},
   "source": [
    "# Consensus sequence"
   ]
  },
  {
   "cell_type": "code",
   "execution_count": 82,
   "metadata": {},
   "outputs": [
    {
     "data": {
      "text/html": [
       "<div>\n",
       "<style scoped>\n",
       "    .dataframe tbody tr th:only-of-type {\n",
       "        vertical-align: middle;\n",
       "    }\n",
       "\n",
       "    .dataframe tbody tr th {\n",
       "        vertical-align: top;\n",
       "    }\n",
       "\n",
       "    .dataframe thead tr th {\n",
       "        text-align: left;\n",
       "    }\n",
       "</style>\n",
       "<table border=\"1\" class=\"dataframe\">\n",
       "  <thead>\n",
       "    <tr>\n",
       "      <th></th>\n",
       "      <th colspan=\"21\" halign=\"left\">chr1</th>\n",
       "    </tr>\n",
       "    <tr>\n",
       "      <th></th>\n",
       "      <th>164834869</th>\n",
       "      <th>164834870</th>\n",
       "      <th>164834871</th>\n",
       "      <th>164834872</th>\n",
       "      <th>164834873</th>\n",
       "      <th>164834874</th>\n",
       "      <th>164834875</th>\n",
       "      <th>164834876</th>\n",
       "      <th>164834877</th>\n",
       "      <th>164834878</th>\n",
       "      <th>...</th>\n",
       "      <th>164835262</th>\n",
       "      <th>164835263</th>\n",
       "      <th>164835264</th>\n",
       "      <th>164835265</th>\n",
       "      <th>164835266</th>\n",
       "      <th>164835267</th>\n",
       "      <th>164835268</th>\n",
       "      <th>164835269</th>\n",
       "      <th>164835270</th>\n",
       "      <th>164835238</th>\n",
       "    </tr>\n",
       "  </thead>\n",
       "  <tbody>\n",
       "    <tr>\n",
       "      <td>A</td>\n",
       "      <td>4.0</td>\n",
       "      <td>NaN</td>\n",
       "      <td>NaN</td>\n",
       "      <td>NaN</td>\n",
       "      <td>4.0</td>\n",
       "      <td>NaN</td>\n",
       "      <td>4.0</td>\n",
       "      <td>NaN</td>\n",
       "      <td>4.0</td>\n",
       "      <td>NaN</td>\n",
       "      <td>...</td>\n",
       "      <td>NaN</td>\n",
       "      <td>3.0</td>\n",
       "      <td>NaN</td>\n",
       "      <td>NaN</td>\n",
       "      <td>3.0</td>\n",
       "      <td>3.0</td>\n",
       "      <td>NaN</td>\n",
       "      <td>3.0</td>\n",
       "      <td>3.0</td>\n",
       "      <td>NaN</td>\n",
       "    </tr>\n",
       "    <tr>\n",
       "      <td>G</td>\n",
       "      <td>NaN</td>\n",
       "      <td>4.0</td>\n",
       "      <td>NaN</td>\n",
       "      <td>NaN</td>\n",
       "      <td>NaN</td>\n",
       "      <td>4.0</td>\n",
       "      <td>NaN</td>\n",
       "      <td>NaN</td>\n",
       "      <td>NaN</td>\n",
       "      <td>NaN</td>\n",
       "      <td>...</td>\n",
       "      <td>NaN</td>\n",
       "      <td>NaN</td>\n",
       "      <td>NaN</td>\n",
       "      <td>NaN</td>\n",
       "      <td>NaN</td>\n",
       "      <td>NaN</td>\n",
       "      <td>NaN</td>\n",
       "      <td>NaN</td>\n",
       "      <td>NaN</td>\n",
       "      <td>1.0</td>\n",
       "    </tr>\n",
       "    <tr>\n",
       "      <td>T</td>\n",
       "      <td>NaN</td>\n",
       "      <td>NaN</td>\n",
       "      <td>4.0</td>\n",
       "      <td>4.0</td>\n",
       "      <td>NaN</td>\n",
       "      <td>NaN</td>\n",
       "      <td>NaN</td>\n",
       "      <td>4.0</td>\n",
       "      <td>NaN</td>\n",
       "      <td>4.0</td>\n",
       "      <td>...</td>\n",
       "      <td>3.0</td>\n",
       "      <td>NaN</td>\n",
       "      <td>3.0</td>\n",
       "      <td>3.0</td>\n",
       "      <td>NaN</td>\n",
       "      <td>NaN</td>\n",
       "      <td>3.0</td>\n",
       "      <td>NaN</td>\n",
       "      <td>NaN</td>\n",
       "      <td>NaN</td>\n",
       "    </tr>\n",
       "    <tr>\n",
       "      <td>C</td>\n",
       "      <td>NaN</td>\n",
       "      <td>NaN</td>\n",
       "      <td>NaN</td>\n",
       "      <td>NaN</td>\n",
       "      <td>NaN</td>\n",
       "      <td>NaN</td>\n",
       "      <td>NaN</td>\n",
       "      <td>NaN</td>\n",
       "      <td>NaN</td>\n",
       "      <td>NaN</td>\n",
       "      <td>...</td>\n",
       "      <td>NaN</td>\n",
       "      <td>NaN</td>\n",
       "      <td>NaN</td>\n",
       "      <td>NaN</td>\n",
       "      <td>NaN</td>\n",
       "      <td>NaN</td>\n",
       "      <td>NaN</td>\n",
       "      <td>NaN</td>\n",
       "      <td>NaN</td>\n",
       "      <td>NaN</td>\n",
       "    </tr>\n",
       "  </tbody>\n",
       "</table>\n",
       "<p>4 rows × 353 columns</p>\n",
       "</div>"
      ],
      "text/plain": [
       "       chr1                                                              \\\n",
       "  164834869 164834870 164834871 164834872 164834873 164834874 164834875   \n",
       "A       4.0       NaN       NaN       NaN       4.0       NaN       4.0   \n",
       "G       NaN       4.0       NaN       NaN       NaN       4.0       NaN   \n",
       "T       NaN       NaN       4.0       4.0       NaN       NaN       NaN   \n",
       "C       NaN       NaN       NaN       NaN       NaN       NaN       NaN   \n",
       "\n",
       "                                 ...                                          \\\n",
       "  164834876 164834877 164834878  ... 164835262 164835263 164835264 164835265   \n",
       "A       NaN       4.0       NaN  ...       NaN       3.0       NaN       NaN   \n",
       "G       NaN       NaN       NaN  ...       NaN       NaN       NaN       NaN   \n",
       "T       4.0       NaN       4.0  ...       3.0       NaN       3.0       3.0   \n",
       "C       NaN       NaN       NaN  ...       NaN       NaN       NaN       NaN   \n",
       "\n",
       "                                                               \n",
       "  164835266 164835267 164835268 164835269 164835270 164835238  \n",
       "A       3.0       3.0       NaN       3.0       3.0       NaN  \n",
       "G       NaN       NaN       NaN       NaN       NaN       1.0  \n",
       "T       NaN       NaN       3.0       NaN       NaN       NaN  \n",
       "C       NaN       NaN       NaN       NaN       NaN       NaN  \n",
       "\n",
       "[4 rows x 353 columns]"
      ]
     },
     "execution_count": 82,
     "metadata": {},
     "output_type": "execute_result"
    }
   ],
   "source": [
    "# Obtain the aligned base frequencies in a pandas dataframe\n",
    "pd.DataFrame( molecule.get_base_observation_dict() )"
   ]
  },
  {
   "cell_type": "code",
   "execution_count": 83,
   "metadata": {},
   "outputs": [
    {
     "data": {
      "text/html": [
       "<div>\n",
       "<style scoped>\n",
       "    .dataframe tbody tr th:only-of-type {\n",
       "        vertical-align: middle;\n",
       "    }\n",
       "\n",
       "    .dataframe tbody tr th {\n",
       "        vertical-align: top;\n",
       "    }\n",
       "\n",
       "    .dataframe thead tr th {\n",
       "        text-align: left;\n",
       "    }\n",
       "</style>\n",
       "<table border=\"1\" class=\"dataframe\">\n",
       "  <thead>\n",
       "    <tr>\n",
       "      <th></th>\n",
       "      <th colspan=\"21\" halign=\"left\">chr1</th>\n",
       "    </tr>\n",
       "    <tr>\n",
       "      <th></th>\n",
       "      <th>164834869</th>\n",
       "      <th>164834870</th>\n",
       "      <th>164834871</th>\n",
       "      <th>164834872</th>\n",
       "      <th>164834873</th>\n",
       "      <th>164834874</th>\n",
       "      <th>164834875</th>\n",
       "      <th>164834876</th>\n",
       "      <th>164834877</th>\n",
       "      <th>164834878</th>\n",
       "      <th>...</th>\n",
       "      <th>164835261</th>\n",
       "      <th>164835262</th>\n",
       "      <th>164835263</th>\n",
       "      <th>164835264</th>\n",
       "      <th>164835265</th>\n",
       "      <th>164835266</th>\n",
       "      <th>164835267</th>\n",
       "      <th>164835268</th>\n",
       "      <th>164835269</th>\n",
       "      <th>164835270</th>\n",
       "    </tr>\n",
       "  </thead>\n",
       "  <tbody>\n",
       "    <tr>\n",
       "      <td>base</td>\n",
       "      <td>A</td>\n",
       "      <td>G</td>\n",
       "      <td>T</td>\n",
       "      <td>T</td>\n",
       "      <td>A</td>\n",
       "      <td>G</td>\n",
       "      <td>A</td>\n",
       "      <td>T</td>\n",
       "      <td>A</td>\n",
       "      <td>T</td>\n",
       "      <td>...</td>\n",
       "      <td>T</td>\n",
       "      <td>T</td>\n",
       "      <td>A</td>\n",
       "      <td>T</td>\n",
       "      <td>T</td>\n",
       "      <td>A</td>\n",
       "      <td>A</td>\n",
       "      <td>T</td>\n",
       "      <td>A</td>\n",
       "      <td>A</td>\n",
       "    </tr>\n",
       "  </tbody>\n",
       "</table>\n",
       "<p>1 rows × 353 columns</p>\n",
       "</div>"
      ],
      "text/plain": [
       "          chr1                                                              \\\n",
       "     164834869 164834870 164834871 164834872 164834873 164834874 164834875   \n",
       "base         A         G         T         T         A         G         A   \n",
       "\n",
       "                                    ...                                \\\n",
       "     164834876 164834877 164834878  ... 164835261 164835262 164835263   \n",
       "base         T         A         T  ...         T         T         A   \n",
       "\n",
       "                                                                            \n",
       "     164835264 164835265 164835266 164835267 164835268 164835269 164835270  \n",
       "base         T         T         A         A         T         A         A  \n",
       "\n",
       "[1 rows x 353 columns]"
      ]
     },
     "execution_count": 83,
     "metadata": {},
     "output_type": "execute_result"
    }
   ],
   "source": [
    "# Obtain the molecule consensus sequence as pandas df:\n",
    "pd.DataFrame({'base':molecule.get_consensus()}).T"
   ]
  },
  {
   "cell_type": "markdown",
   "metadata": {},
   "source": [
    "# Visualisation"
   ]
  },
  {
   "cell_type": "code",
   "execution_count": 84,
   "metadata": {},
   "outputs": [
    {
     "data": {
      "text/html": [
       "<h3>chr1:164834869-164835270\n",
       "            sample:APKS3-P19-1-1_115  valid molecule</h3>\n",
       "            <h5>UMI:GAC Mapping qual:60.0 Cut loc: chr1:164834865 </h5>\n",
       "            <div style=\"white-space:nowrap; font-family:monospace; color:#888\"><h5>ST-E00285:221:HKM7VCCXY:6:1224:9120:30439</h5>AGTTAGATATGGACTCTTCTTCAGACACTTTGTTTAAATTTTAAATTTTTTTCTGATTGCAAATTAGTATTTAATGTAGAAAATTTGGAGAATTCAGGAAAACCACAAAGAAGAAAATTTACTGTTAACTTTGTGC.........................................................................................................................................................................................................................................................................<br />...........................................................................................................................................TAGCCTTCTAGCACTTTATGTATAAGTGTGTTTTTTATGTGGGTGTAAGAAAGTTACATTTCCTTTTACCTACCTATATTACTAAAAATGTGTTATGAATATTTTCCATATCATTAAACATTCTTCTCAAGCATAACTTTAAATAACTGCA...............................................................................................................<br /><h5>NS500413:404:HJ3KHBGX5:2:22312:23759:6537</h5>AGTTAGATATGGACTCTTCTTCAGACACTTTGTTTAAATTTTAAATTTTTTTCTGATTGC.....................................................................................................................................................................................................................................................................................................................................................<br />..........................................................................................................................................................................................................................................................................................................................................AATTTATA<text style=\"color:red; font-weight:500\" >T</text>TATAGAA<text style=\"color:red; font-weight:500\" >A</text>ATTT<text style=\"color:red; font-weight:500\" >T</text>A<text style=\"color:red; font-weight:500\" >T</text><text style=\"color:red; font-weight:500\" >T</text>TACTTTTG<text style=\"color:red; font-weight:500\" >T</text>TTTT..TTTTTTTTTTTTTTTTTTACTATTATTAATA<br /><h5>NS500413:404:HJ3KHBGX5:4:13507:22698:18344</h5>AGTTAGATATGGACTCTTCTTCAGACACTTTGTTTAAATTTTAAATTTTTTTCTGATTGC.....................................................................................................................................................................................................................................................................................................................................................<br />.................................................................................................................................................................................................................................................................................................................................................................................GTTTTTTTTTTTTTTTTTTACTATTATTAATA<br /><h5>NS500413:404:HJ3KHBGX5:3:23502:18585:5263</h5>AGTTAGATATGGACTCTTCTTCAGACACTTTGTTTAAATTTTAAATTTTTTTCTGATTGC.....................................................................................................................................................................................................................................................................................................................................................<br />...................................................................................................................................................................................................................................................................................................................................................................................TTTTTTTTTTTTTTTTTACTATTATTAATA<br />AGTTAGATATGGACTCTTCTTCAGACACTTTGTTTAAATTTTAAATTTTTTTCTGATTGCAAATTAGTATTTAATGTAGAAAATTTGGAGAATTCAGGAAAACCACAAAGAAGAAAATTTACTGTTAACTTTGTGC...TAGCCTTCTAGCACTTTATGTATAAGTGTGTTTTTTATGTGGGTGTAAGAAAGTTACATTTCCTTTTACCTACCTATATTACTAAAAATGTGTTATGAATATTTTCCATATCATTAAACATTCTTCTCAAGCATAACTTTAAATAA.............................................AATTTATA<text style=\"color:red; font-weight:800\" >T</text>TATAGAA<text style=\"color:red; font-weight:800\" >A</text>ATTT<text style=\"color:red; font-weight:800\" >T</text>A<text style=\"color:red; font-weight:800\" >T</text><text style=\"color:red; font-weight:800\" >T</text>TACTTTTG<text style=\"color:red; font-weight:800\" >T</text>TTTT.GTTTTTTTTTTTTTTTTTTACTATTATTAATA<br />AGTTAGATATGGACTCTTCTTCAGACACTTTGTTTAAATTTTAAATTTTTTTCTGATTGCAAATTAGTATTTAATGTAGAAAATTTGGAGAATTCAGGAAAACCACAAAGAAGAAAATTTACTGTTAACTTTGTGC???TAGCCTTCTAGCACTTTATGTATAAGTGTGTTTTTTATGTGGGTGTAAGAAAGTTACATTTCCTTTTACCTACCTATATTACTAAAAATGTGTTATGAATATTTTCCATATCATTAAACATTCTTCTCAAGCATAACTTTAAATAA?????????????????????????????????????????????AATTTATA<text style=\"color:black; font-weight:800\" >C</text>TATAGAA<text style=\"color:black; font-weight:800\" >C</text>ATTT<text style=\"color:black; font-weight:800\" >A</text>A<text style=\"color:black; font-weight:800\" >G</text><text style=\"color:black; font-weight:800\" >C</text>TACTTTTG<text style=\"color:black; font-weight:800\" >A</text>TTTT?GTTTTTTTTTTTTTTTTTTACTATTATTAATA<br /></div>"
      ],
      "text/plain": [
       "<IPython.core.display.HTML object>"
      ]
     },
     "metadata": {},
     "output_type": "display_data"
    }
   ],
   "source": [
    "# Display the molecule here in the notebook:\n",
    "from IPython.core.display import display, HTML\n",
    "display(HTML( molecule.get_html() ))"
   ]
  },
  {
   "cell_type": "code",
   "execution_count": 85,
   "metadata": {},
   "outputs": [
    {
     "data": {
      "text/html": [
       "AGTTAGATATGGACTCTTCTTCAGACACTTTGTTTAAATTTTAAATTTTTTTCTGATTGCAAATTAGTATTTAATGTAGAAAATTTGGAGAATTCAGGAAAACCACAAAGAAGAAAATTTACTGTTAACTTTGTGC........................................................................................................................................................................................................................................................................."
      ],
      "text/plain": [
       "<IPython.core.display.HTML object>"
      ]
     },
     "metadata": {},
     "output_type": "display_data"
    }
   ],
   "source": [
    "# Display a single read:\n",
    "fragment = molecule[0]\n",
    "display(HTML(fragment.get_html(span_start=molecule.spanStart, span_end=molecule.spanEnd,show_read1=1,show_read2=0) ))"
   ]
  },
  {
   "cell_type": "code",
   "execution_count": 86,
   "metadata": {},
   "outputs": [
    {
     "data": {
      "text/plain": [
       "\"ST-E00285:221:HKM7VCCXY:6:1224:9120:30439\\t99\\t0\\t164834865\\t60\\t140M\\t0\\t164835008\\t140\\tCATGAGTTAGATATGGACTCTTCTTCAGACACTTTGTTTAAATTTTAAATTTTTTTCTGATTGCAAATTAGTATTTAATGTAGAAAATTTGGAGAATTCAGGAAAACCACAAAGAAGAAAATTTACTGTTAACTTTGTGC\\tarray('B', [32, 37, 41, 41, 41, 41, 41, 41, 41, 41, 41, 41, 41, 41, 41, 41, 41, 41, 41, 41, 41, 41, 41, 41, 41, 41, 41, 41, 41, 41, 41, 41, 41, 41, 41, 41, 41, 41, 41, 41, 41, 41, 41, 41, 41, 41, 41, 41, 41, 41, 41, 41, 41, 41, 41, 41, 41, 41, 41, 41, 41, 41, 41, 41, 41, 41, 41, 41, 41, 41, 41, 41, 41, 41, 41, 41, 41, 41, 41, 41, 41, 41, 41, 41, 41, 41, 41, 41, 41, 41, 41, 41, 41, 41, 41, 41, 41, 41, 41, 37, 41, 41, 41, 41, 41, 37, 37, 41, 41, 41, 41, 41, 41, 41, 41, 41, 41, 41, 41, 41, 41, 41, 41, 41, 41, 41, 41, 41, 41, 41, 41, 41, 41, 41, 41, 41, 37, 41, 37, 32])\\t[('NM', 0), ('MD', '140'), ('MC', '151M'), ('AS', 140), ('XS', 20), ('Is', 'ST-E00285'), ('RN', '221'), ('Fc', 'HKM7VCCXY'), ('La', '6'), ('Ti', '1224'), ('CX', '9120'), ('CY', '30439'), ('Fi', 'N'), ('CN', '0'), ('aA', 'TGACCAAT'), ('LY', 'APKS3-P19-1-1'), ('RX', 'GAC'), ('RQ', 'AAF'), ('BI', '115'), ('bc', 'GCACACGC'), ('BC', 'GCACACGC'), ('QT', 'FFJJJJJJ'), ('MX', 'NLAIII384C8U3'), ('MI', 'GCACACGCGACTGACCAAT'), ('QM', 'FFJJJJJJAAF////////'), ('SM', 'APKS3-P19-1-1_115'), ('rS', 'TGCAGT'), ('rP', 164835159), ('RC', 1), ('DT', 'NLA'), ('RG', 'HKM7VCCXY.6.APKS3-P19-1-1_115'), ('DS', 164834865), ('RS', 1), ('RZ', 'CATG')]\""
      ]
     },
     "execution_count": 86,
     "metadata": {},
     "output_type": "execute_result"
    }
   ],
   "source": [
    "str(fragment[0])"
   ]
  },
  {
   "cell_type": "code",
   "execution_count": 88,
   "metadata": {},
   "outputs": [
    {
     "name": "stdout",
     "output_type": "stream",
     "text": [
      "[0, 0, 0, 0, 0, 0, 0, 0, 0, 0, 0, 0, 0, 0, 0, 0, 0, 0, 0, 0, 0, 0, 0, 0, 0, 0, 0, 0, 0, 0, 0, 0, 0, 0, 0, 0, 0, 0, 0, 0, 0, 0, 0, 0, 0, 0, 0, 0, 0, 0, 0, 0, 0, 0, 0, 0, 0, 0, 0, 0, 0, 0, 0, 0, 0, 0, 0, 0, 0, 0, 0, 0, 0, 0, 0, 0, 0, 0, 0, 0, 0, 0, 0, 0, 0, 0, 0, 0, 0, 0, 0, 0, 0, 0, 0, 0, 0, 0, 0, 0, 0, 0, 0, 0, 0, 0, 0, 0, 0, 0, 0, 0, 0, 0, 0, 0, 0, 0, 0, 0, 0, 0, 0, 0, 0, 0, 0, 0, 0, 0, 0, 0, 0, 0, 0, 0, 0, 0, 0, 0]\n",
      "[0, 0, 0, 0, 0, 0, 0, 0, 0, 0, 0, 0, 0, 0, 0, 0, 0, 0, 0, 0, 0, 0, 0, 0, 0, 0, 0, 0, 0, 0, 0, 0, 0, 0, 0, 0, 0, 0, 0, 0, 0, 0, 0, 0, 0, 0, 0, 0, 0, 0, 0, 0, 0, 0, 0, 0, 0, 0, 0, 0, 0, 0, 0, 0, 0, 0, 0, 0, 0, 0, 0, 0, 0, 0, 0, 0, 0, 0, 0, 0, 0, 0, 0, 0, 0, 0, 0, 0, 0, 0, 0, 0, 0, 0, 0, 0, 0, 0, 0, 0, 0, 0, 0, 0, 0, 0, 0, 0, 0, 0, 0, 0, 0, 0, 0, 0, 0, 0, 0, 0, 0, 0, 0, 0, 0, 0, 0, 0, 0, 0, 0, 0, 0, 0, 0, 0, 0, 0, 0, 0, 0, 0, 0, 0, 0, 0, 0, 0, 0, 0, 0]\n",
      "[0, 0, 0, 0, 0, 0, 0, 0, 0, 0, 0, 0, 0, 0, 0, 0, 0, 0, 0, 0, 0, 0, 0, 0, 0, 0, 0, 0, 0, 0, 0, 0, 0, 0, 0, 0, 0, 0, 0, 0, 0, 0, 0, 0, 0, 0, 0, 0, 0, 0, 0, 0, 0, 0, 0, 0, 0, 0, 0, 0, 0, 0, 0, 0]\n",
      "[0, 0, 0, 0, 0, 0, 0, 0, 0, 0, 0, 0, 0, 0, 0, 0, 0, 0, 0, 0, 0, 0, 0, 0, 0, 0, 0, 0, 0, 0, 0, 0, 0, 0, 0, 0, 0, 0, 0, 0, 0, 0, 0, 0, 0, 0, 0, 0, 0, 0, 0, 0, 0, 0, 0, 0, 0, 0, 0, 0, 0, 0, 0, 0, 0, 0, 0, 0, 0, 0, 0, 0, 0, 0, 0]\n",
      "[0, 0, 0, 0, 0, 0, 0, 0, 0, 0, 0, 0, 0, 0, 0, 0, 0, 0, 0, 0, 0, 0, 0, 0, 0, 0, 0, 0, 0, 0, 0, 0, 0, 0, 0, 0, 0, 0, 0, 0, 0, 0, 0, 0, 0, 0, 0, 0, 0, 1, 0, 0, 0, 0, 0, 0, 0, 0, 0, 0, 0, 0, 0, 0, 0]\n",
      "[4, 4, 4, 4, 4, 4, 4, 4, 4, 4, 4, 4, 4, 4, 4, 4, 4, 4, 4, 4, 4, 4, 4, 4, 4, 4, 4, 4, 4, 4, 4, 4, 4, 4, 4, 4, 4, 0, 0, 0, 0, 0, 0, 0, 0, 0, 0, 0, 0, 0, 0, 0, 0, 0, 0, 0, 0, 0, 0, 0, 0, 0, 0, 0, 0, 0, 0, 0, 0, 0, 0, 0, 0, 0, 0]\n",
      "[0, 0, 0, 0, 0, 0, 0, 0, 0, 0, 0, 0, 0, 0, 0, 0, 0, 0, 0, 0, 0, 0, 0, 0, 0, 0, 0, 0, 0, 0, 0, 0, 0, 0, 0, 0, 0, 0, 0, 0, 0, 0, 0, 0, 0, 0, 0, 0, 0, 0, 0, 0, 0, 0, 0, 0, 0, 0, 0, 0, 0, 0, 0, 0]\n",
      "[4, 4, 4, 4, 4, 4, 4, 4, 4, 4, 4, 4, 4, 4, 4, 4, 4, 4, 4, 4, 4, 4, 4, 4, 4, 4, 4, 4, 4, 4, 4, 4, 4, 4, 4, 4, 4, 4, 4, 4, 0, 0, 0, 0, 0, 0, 0, 0, 0, 0, 0, 0, 0, 0, 0, 0, 0, 0, 0, 0, 0, 0, 0, 0, 0, 0, 0, 0, 0, 0, 0, 0, 0, 0, 0, 0]\n"
     ]
    },
    {
     "data": {
      "text/plain": [
       "<matplotlib.image.AxesImage at 0x7f0c29101c50>"
      ]
     },
     "execution_count": 88,
     "metadata": {},
     "output_type": "execute_result"
    },
    {
     "data": {
      "image/png": "[encoded data removed]",
      "text/plain": [
       "<Figure size 1500x1000 with 1 Axes>"
      ]
     },
     "metadata": {
      "needs_background": "light"
     },
     "output_type": "display_data"
    }
   ],
   "source": [
    "tensor = molecule.get_alignment_tensor(\n",
    "    max_reads=8,\n",
    "    centroid=molecule.spanStart,\n",
    "    window_radius=10)\n",
    "plt.imshow(tensor)"
   ]
  },
  {
   "cell_type": "code",
   "execution_count": null,
   "metadata": {},
   "outputs": [],
   "source": []
  }
 ],
 "metadata": {
  "kernelspec": {
   "display_name": "Python 3",
   "language": "python",
   "name": "python3"
  },
  "language_info": {
   "codemirror_mode": {
    "name": "ipython",
    "version": 3
   },
   "file_extension": ".py",
   "mimetype": "text/x-python",
   "name": "python",
   "nbconvert_exporter": "python",
   "pygments_lexer": "ipython3",
   "version": "3.6.8"
  }
 },
 "nbformat": 4,
 "nbformat_minor": 2
}
