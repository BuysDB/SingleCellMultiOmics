{
 "cells": [
  {
   "cell_type": "code",
   "execution_count": 1,
   "metadata": {},
   "outputs": [],
   "source": [
    "import unittest\n",
    "import singlecellmultiomics.molecule\n",
    "import singlecellmultiomics.fragment\n",
    "import pysam\n",
    "import pysamiterators.iterators"
   ]
  },
  {
   "cell_type": "code",
   "execution_count": 2,
   "metadata": {},
   "outputs": [],
   "source": [
    "f = pysam.AlignmentFile('./data/mini_nla_test.bam') "
   ]
  },
  {
   "cell_type": "code",
   "execution_count": 3,
   "metadata": {},
   "outputs": [],
   "source": [
    "for i,(R1,R2) in enumerate(pysamiterators.iterators.MatePairIterator(f)):\n",
    "    pass"
   ]
  },
  {
   "cell_type": "code",
   "execution_count": 4,
   "metadata": {},
   "outputs": [],
   "source": [
    "it = singlecellmultiomics.molecule.MoleculeIterator(\n",
    "    alignments=f,\n",
    "    moleculeClass=singlecellmultiomics.molecule.Molecule,\n",
    "    fragmentClass=singlecellmultiomics.fragment.NLAIIIFragment)"
   ]
  },
  {
   "cell_type": "code",
   "execution_count": null,
   "metadata": {},
   "outputs": [],
   "source": [
    "a = next(it)"
   ]
  },
  {
   "cell_type": "code",
   "execution_count": null,
   "metadata": {},
   "outputs": [],
   "source": [
    "with pysam.AlignmentFile('./data/mini_nla_test.bam') as f:\n",
    "    it = singlecellmultiomics.molecule.MoleculeIterator(\n",
    "    alignments=f,\n",
    "    moleculeClass=singlecellmultiomics.molecule.Molecule,\n",
    "    fragmentClass=singlecellmultiomics.fragment.Fragment)\n",
    "    for molecule in it:\n",
    "        #print(molecule.get_sample())\n",
    "        if  molecule.get_sample()=='APKS3-P19-1-1_91':\n",
    "            break"
   ]
  },
  {
   "cell_type": "code",
   "execution_count": null,
   "metadata": {},
   "outputs": [],
   "source": []
  }
 ],
 "metadata": {
  "kernelspec": {
   "display_name": "Python 3",
   "language": "python",
   "name": "python3"
  },
  "language_info": {
   "codemirror_mode": {
    "name": "ipython",
    "version": 3
   },
   "file_extension": ".py",
   "mimetype": "text/x-python",
   "name": "python",
   "nbconvert_exporter": "python",
   "pygments_lexer": "ipython3",
   "version": "3.6.8"
  }
 },
 "nbformat": 4,
 "nbformat_minor": 2
}
